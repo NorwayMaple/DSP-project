{
 "cells": [
  {
   "cell_type": "code",
   "execution_count": 89,
   "metadata": {
    "collapsed": true
   },
   "outputs": [],
   "source": [
    "# %load chorus.py\n",
    "\"\"\"\n",
    "chorus.py\n",
    "\"\"\"\n",
    "\n",
    "import sys, os\n",
    "import time, random \n",
    "import wave, argparse, pygame \n",
    "import numpy as np\n",
    "from collections import deque\n",
    "from matplotlib import pyplot as plt\n",
    "\n",
    "# show plot of algorithm in action?\n",
    "gShowPlot = False\n",
    "\n",
    "# notes of a Pentatonic Minor scale\n",
    "# piano C4-E(b)-F-G-B(b)-C5\n",
    "pmNotes = {'C4': 262, 'Eb': 311, 'F': 349, 'G':391, 'Bb':466}\n",
    "\n",
    "# write out WAVE file\n",
    "def writeWAVE(fname, data):\n",
    "    # open file \n",
    "    file = wave.open(fname, 'wb')\n",
    "    # WAV file parameters \n",
    "    nChannels = 1\n",
    "    sampleWidth = 2\n",
    "    frameRate = 44100\n",
    "    nFrames = 44100\n",
    "    # set parameters\n",
    "    file.setparams((nChannels, sampleWidth, frameRate, nFrames,\n",
    "                    'NONE', 'noncompressed'))\n",
    "    file.writeframes(data)\n",
    "    file.close()\n",
    "\n",
    "# generate note of given frequency\n",
    "def generateNote(freq):\n",
    "    nSamples = 44100\n",
    "    sampleRate = 44100\n",
    "    N = int(sampleRate/freq)\n",
    "    # initialize ring buffer\n",
    "    buf = deque([random.random() - 0.5 for i in range(N)])\n",
    "    # plot of flag set \n",
    "    if gShowPlot:\n",
    "        axline, = plt.plot(buf)\n",
    "    # init sample buffer\n",
    "    samples = np.array([0]*nSamples, 'float32')\n",
    "    for i in range(nSamples):\n",
    "        samples[i] = buf[0]\n",
    "        avg = 0.995*0.5*(buf[0] + buf[1])\n",
    "        buf.append(avg)\n",
    "        buf.popleft()  \n",
    "        # plot of flag set \n",
    "        if gShowPlot:\n",
    "            if i % 1000 == 0:\n",
    "                axline.set_ydata(buf)\n",
    "                plt.draw()\n",
    "      \n",
    "    # samples to 16-bit to string\n",
    "    # max value is 32767 for 16-bit\n",
    "    samples = np.array(samples * 32767, 'int16')\n",
    "    return samples.tostring()\n",
    "    \n",
    "    "
   ]
  },
  {
   "cell_type": "code",
   "execution_count": 90,
   "metadata": {
    "collapsed": false
   },
   "outputs": [],
   "source": [
    "def generateLFO(length = 44100, rate = 44100, ave_delay = 40, lfo_range = 40, freq = 8):\n",
    "    LFO = np.array([0]*length, 'int16')\n",
    "    for i in range(length):\n",
    "        #y1=delay-range/2 y2=delay+range/2 x1=0 x2=(rate/freq)%i\n",
    "        #y2-y1=range x2-x1=(rate/freq)%i\n",
    "        #(y2-y1)/(x2-x1)=range*freq/rate\n",
    "        #(x-x1)=i%(rate/freq)\n",
    "        #(y2-y1)(x-x1)/(x2-x1)=range*freq*(i%(rate/freq))/rate\n",
    "        #((y2-y1)(x-x1)/(x2-x1))+y1 = (range*freq*(i%(rate/freq))/rate) + delay - range/2\n",
    "        LFO[i]=((lfo_range*freq*(i%(rate//freq))//rate)+ave_delay-(lfo_range//2))*rate//1000\n",
    "        #LFO[i]=(lfo_range*freq*(i%(rate//freq))//rate)+ave_delay-(lfo_range//2)*rate//1000\n",
    "        #LFO[i]=(lfo_range*freq*(i%(rate//freq)))+ave_delay*rate-(lfo_range*rate//2)//1000\n",
    "    return LFO\n",
    "    \n",
    "    "
   ]
  },
  {
   "cell_type": "code",
   "execution_count": 91,
   "metadata": {
    "collapsed": true
   },
   "outputs": [],
   "source": [
    "x = generateLFO(lfo_range = 0)"
   ]
  },
  {
   "cell_type": "code",
   "execution_count": 92,
   "metadata": {
    "collapsed": false
   },
   "outputs": [
    {
     "data": {
      "image/png": "[encoded data removed]",
      "text/plain": [
       "<matplotlib.figure.Figure at 0x11037d198>"
      ]
     },
     "metadata": {},
     "output_type": "display_data"
    }
   ],
   "source": [
    "plt.plot(range(0,44100), x)\n",
    "plt.show()"
   ]
  },
  {
   "cell_type": "code",
   "execution_count": 100,
   "metadata": {
    "collapsed": false
   },
   "outputs": [],
   "source": [
    "def chorus(data, buffer_length = 1764):\n",
    "    # not sure what order of magnitude buffer_length should be\n",
    "    samples = np.fromstring(data, 'int16')\n",
    "    samples = (samples / 32767).astype('float32')\n",
    "    chorus = np.array([0]*samples.size, 'float32')\n",
    "    buf = deque([0]*buffer_length)\n",
    "    lfo = generateLFO(length = samples.size, freq = 16)\n",
    "    for i in range(samples.size):\n",
    "        buf.append(samples[i])\n",
    "        buf.popleft()\n",
    "        plt.plot(range(0, 1000), generateLFO(length=sample.size, freq=16))\n",
    "        chorus[i] = samples[lfo[i]]\n",
    "#        chorus[i] = (buf[0] + samples[lfo[i]]) / 2\n",
    "    #    chorus[i] = samples[i]/2 + buf[0]/2\n",
    "     #   buf.append(samples[i])\n",
    "      #  buf.popleft()\n",
    "    chorus = np.array(chorus * 32767, 'int16')\n",
    "    return chorus.tostring()"
   ]
  },
  {
   "cell_type": "code",
   "execution_count": 102,
   "metadata": {
    "collapsed": false
   },
   "outputs": [
    {
     "data": {
      "image/png": "[encoded data removed]",
      "text/plain": [
       "<matplotlib.figure.Figure at 0x11037de80>"
      ]
     },
     "metadata": {},
     "output_type": "display_data"
    }
   ],
   "source": [
    "y = generateNote(880)\n",
    "z = chorus(x)\n",
    "plt.plot(range(0, 1000), np.fromstring(z, 'int16')[:1000])\n",
    "plt.show()"
   ]
  },
  {
   "cell_type": "code",
   "execution_count": 95,
   "metadata": {
    "collapsed": false
   },
   "outputs": [],
   "source": [
    "pygame.mixer.pre_init(44100, -16, 1, 2048)\n",
    "pygame.init()\n",
    "writeWAVE('x.wav', z)"
   ]
  },
  {
   "cell_type": "code",
   "execution_count": null,
   "metadata": {
    "collapsed": false
   },
   "outputs": [],
   "source": [
    "    \n",
    "# play a wav file\n",
    "class NotePlayer:\n",
    "    # constr\n",
    "    def __init__(self):\n",
    "        pygame.mixer.pre_init(44100, -16, 1, 2048)\n",
    "        pygame.init()\n",
    "        # dictionary of notes\n",
    "        self.notes = {}\n",
    "    # add a note\n",
    "    def add(self, fileName):\n",
    "        self.notes[fileName] = pygame.mixer.Sound(fileName)\n",
    "    # play a note\n",
    "    def play(self, fileName):\n",
    "        try:\n",
    "            self.notes[fileName].play()\n",
    "        except:\n",
    "            print(fileName + ' not found!')\n",
    "\n",
    "# main() function\n",
    "def main():\n",
    "    # declare global var\n",
    "    global gShowPlot\n",
    "\n",
    "    parser = argparse.ArgumentParser(description=\"Generating sounds with Karplus String Algorithm.\")\n",
    "    # add arguments\n",
    "    parser.add_argument('--display', action='store_true', required=False)\n",
    "    parser.add_argument('--play', action='store_true', required=False)\n",
    "    parser.add_argument('--piano', action='store_true', required=False)\n",
    "    args = parser.parse_args()\n",
    "\n",
    "    # show plot if flag set\n",
    "    if args.display:\n",
    "        gShowPlot = True\n",
    "        plt.ion()\n",
    "\n",
    "    # create note player\n",
    "    nplayer = NotePlayer()\n",
    "\n",
    "    print('creating notes...')\n",
    "    for name, freq in list(pmNotes.items()):\n",
    "        fileName = name + '.wav' \n",
    "        if not os.path.exists(fileName) or args.display:\n",
    "            data = generateNote(freq) \n",
    "            print('creating ' + fileName + '...')\n",
    "            writeWAVE(fileName, data) \n",
    "        else:\n",
    "            print('fileName already created. skipping...')\n",
    "        \n",
    "        # add note to player\n",
    "        nplayer.add(name + '.wav')\n",
    "        \n",
    "        # play note if display flag set\n",
    "        if args.display:\n",
    "            nplayer.play(name + '.wav')\n",
    "            time.sleep(0.5)\n",
    "    \n",
    "    # play a random tune\n",
    "    if args.play:\n",
    "        while True:\n",
    "            try: \n",
    "                nplayer.playRandom()\n",
    "                # rest - 1 to 8 beats\n",
    "                rest = np.random.choice([1, 2, 4, 8], 1, \n",
    "                                        p=[0.15, 0.7, 0.1, 0.05])\n",
    "                time.sleep(0.25*rest[0])\n",
    "            except KeyboardInterrupt:\n",
    "                exit()\n",
    "\n",
    "    # random piano mode\n",
    "    if args.piano:\n",
    "        while True:\n",
    "            for event in pygame.event.get():\n",
    "                if (event.type == pygame.KEYUP):\n",
    "                    print(\"key pressed\")\n",
    "                    nplayer.playRandom()\n",
    "                    time.sleep(0.5)\n",
    "  \n",
    "# call main\n",
    "if __name__ == '__main__':\n",
    "    main()"
   ]
  },
  {
   "cell_type": "code",
   "execution_count": null,
   "metadata": {
    "collapsed": true
   },
   "outputs": [],
   "source": []
  }
 ],
 "metadata": {
  "kernelspec": {
   "display_name": "Python 3",
   "language": "python",
   "name": "python3"
  },
  "language_info": {
   "codemirror_mode": {
    "name": "ipython",
    "version": 3
   },
   "file_extension": ".py",
   "mimetype": "text/x-python",
   "name": "python",
   "nbconvert_exporter": "python",
   "pygments_lexer": "ipython3",
   "version": "3.6.0"
  }
 },
 "nbformat": 4,
 "nbformat_minor": 2
}
