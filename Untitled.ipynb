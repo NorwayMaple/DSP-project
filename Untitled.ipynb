{
 "cells": [
  {
   "cell_type": "code",
   "execution_count": 309,
   "metadata": {
    "collapsed": false
   },
   "outputs": [],
   "source": [
    "# %load chorus.py\n",
    "\"\"\"\n",
    "chorus.py\n",
    "\"\"\"\n",
    "\n",
    "import sys, os\n",
    "import time, random \n",
    "import wave, argparse, pygame \n",
    "import numpy as np\n",
    "from collections import deque\n",
    "from matplotlib import pyplot as plt\n",
    "\n",
    "# show plot of algorithm in action?\n",
    "gShowPlot = False\n",
    "\n",
    "# notes of a Pentatonic Minor scale\n",
    "# piano C4-E(b)-F-G-B(b)-C5\n",
    "pmNotes = {'C4': 262, 'Eb': 311, 'F': 349, 'G':391, 'Bb':466}\n",
    "\n",
    "# write out WAVE file\n",
    "def writeWAVE(fname, data, sampleWidth = 2):\n",
    "    # open file \n",
    "    file = wave.open(fname, 'wb')\n",
    "    # WAV file parameters \n",
    "    nChannels = 1\n",
    "    frameRate = 44100\n",
    "    nFrames = 44100\n",
    "    # set parameters\n",
    "    file.setparams((nChannels, sampleWidth, frameRate, nFrames,\n",
    "                    'NONE', 'noncompressed'))\n",
    "    file.writeframes(data)\n",
    "    file.close()\n",
    "\n",
    "def readWAVE(fname):\n",
    "    with wave.open(fname, 'rb') as f:\n",
    "        data = f.readframes(f.getnframes())\n",
    "        return data\n",
    "    \n",
    "\n",
    "# generate note of given frequency\n",
    "def generateNote(freq):\n",
    "    nSamples = 44100\n",
    "    sampleRate = 44100\n",
    "    N = int(sampleRate/freq)\n",
    "    # initialize ring buffer\n",
    "    buf = deque([random.random() - 0.5 for i in range(N)])\n",
    "    # plot of flag set \n",
    "    if gShowPlot:\n",
    "        axline, = plt.plot(buf)\n",
    "    # init sample buffer\n",
    "    samples = np.array([0]*nSamples, 'float32')\n",
    "    for i in range(nSamples):\n",
    "        samples[i] = buf[0]\n",
    "        avg = 0.995*0.5*(buf[0] + buf[1])\n",
    "        buf.append(avg)\n",
    "        buf.popleft()  \n",
    "        # plot of flag set \n",
    "        if gShowPlot:\n",
    "            if i % 1000 == 0:\n",
    "                axline.set_ydata(buf)\n",
    "                plt.draw()\n",
    "      \n",
    "    # samples to 16-bit to string\n",
    "    # max value is 32767 for 16-bit\n",
    "    samples = np.array(samples * 32767, 'int16')\n",
    "    return samples.tostring()\n",
    "    \n",
    "    "
   ]
  },
  {
   "cell_type": "code",
   "execution_count": 336,
   "metadata": {
    "collapsed": false
   },
   "outputs": [],
   "source": [
    "def generateLFO(length = 44100, rate = 44100, ave_delay = 40, lfo_range = 40, freq = 8, sine = False):\n",
    "    LFO = np.array([0]*length, 'int16')\n",
    "    if not sine:\n",
    "        for i in range(length):\n",
    "            #y1=delay-range/2 y2=delay+range/2 x1=0 x2=(rate/freq)%i\n",
    "            #y2-y1=range x2-x1=(rate/freq)%i\n",
    "            #(y2-y1)/(x2-x1)=range*freq/rate\n",
    "            #(x-x1)=i%(rate/freq)\n",
    "            #(y2-y1)(x-x1)/(x2-x1)=range*freq*(i%(rate/freq))/rate\n",
    "            #((y2-y1)(x-x1)/(x2-x1))+y1 = (range*freq*(i%(rate/freq))/rate) + delay - range/2\n",
    "            LFO[i]=((lfo_range*freq*(i%(rate//freq))//rate)+ave_delay-(lfo_range//2))*rate//1000\n",
    "            #LFO[i]=(lfo_range*freq*(i%(rate//freq))//rate)+ave_delay-(lfo_range//2)*rate//1000\n",
    "            #LFO[i]=(lfo_range*freq*(i%(rate//freq)))+ave_delay*rate-(lfo_range*rate//2)//1000\n",
    "        return LFO\n",
    "    else:\n",
    "        for i in range(length):\n",
    "            LFO[i] = ave_delay + lfo_range * np.sin(2 * np.pi * i / freq)\n",
    "        return LFO\n",
    "    \n",
    "    "
   ]
  },
  {
   "cell_type": "code",
   "execution_count": 337,
   "metadata": {
    "collapsed": false
   },
   "outputs": [],
   "source": [
    "x = np.fromstring(readWAVE('test2.wav'), 'int16')"
   ]
  },
  {
   "cell_type": "code",
   "execution_count": 338,
   "metadata": {
    "collapsed": false
   },
   "outputs": [
    {
     "name": "stdout",
     "output_type": "stream",
     "text": [
      "[-20   2  26  56  82  99 107 104  77  46]\n"
     ]
    },
    {
     "data": {
      "image/png": "[encoded data removed]",
      "text/plain": [
       "<matplotlib.figure.Figure at 0x110895d30>"
      ]
     },
     "metadata": {},
     "output_type": "display_data"
    }
   ],
   "source": [
    "print(x[5500:5510])\n",
    "plt.plot(range(0,len(x)), x)\n",
    "plt.show()"
   ]
  },
  {
   "cell_type": "code",
   "execution_count": 341,
   "metadata": {
    "collapsed": false
   },
   "outputs": [],
   "source": [
    "def chorus(data, buffer_length = 3528):\n",
    "    # not sure what order of magnitude buffer_length should be\n",
    "    samples = np.fromstring(data, 'int16')\n",
    "    samples = (samples / 32767).astype('float32')\n",
    "    chorus = np.array([0]*samples.size, 'float32')\n",
    "    buf = deque([0]*buffer_length)\n",
    "    lfo = generateLFO(length = samples.size, freq = 16, ave_delay = 40, lfo_range = 20, sine = True)\n",
    "    for i in range(samples.size):\n",
    "        buf.append(samples[i])\n",
    "        buf.popleft()\n",
    "        #chorus[i] = buf[lfo[i]]\n",
    "        chorus[i] = (buf[0] + buf[lfo[i]]) / 2\n",
    "    #    chorus[i] = samples[i]/2 + buf[0]/2\n",
    "     #   buf.append(samples[i])\n",
    "      #  buf.popleft()\n",
    "    return np.array(chorus * 32767, 'int16')\n",
    "    #return chorus.tostring()"
   ]
  },
  {
   "cell_type": "code",
   "execution_count": 342,
   "metadata": {
    "collapsed": false
   },
   "outputs": [
    {
     "data": {
      "image/png": "[encoded data removed]",
      "text/plain": [
       "<matplotlib.figure.Figure at 0x1108b32e8>"
      ]
     },
     "metadata": {},
     "output_type": "display_data"
    },
    {
     "data": {
      "image/png": "[encoded data removed]",
      "text/plain": [
       "<matplotlib.figure.Figure at 0x110cd7320>"
      ]
     },
     "metadata": {},
     "output_type": "display_data"
    },
    {
     "data": {
      "image/png": "[encoded data removed]",
      "text/plain": [
       "<matplotlib.figure.Figure at 0x10dbd9710>"
      ]
     },
     "metadata": {},
     "output_type": "display_data"
    }
   ],
   "source": [
    "y = x\n",
    "z = chorus(y)\n",
    "plt.plot(range(0, len(x)), x)\n",
    "plt.show()\n",
    "plt.plot(range(0, len(y)), y)\n",
    "plt.show()\n",
    "plt.plot(range(0, len(z)), z)\n",
    "plt.show()"
   ]
  },
  {
   "cell_type": "code",
   "execution_count": 343,
   "metadata": {
    "collapsed": false
   },
   "outputs": [],
   "source": [
    "pygame.mixer.pre_init(44100, -16, 1, 2048)\n",
    "pygame.init()\n",
    "writeWAVE('x.wav', x)\n",
    "writeWAVE('y.wav', y)\n",
    "writeWAVE('z.wav', z)"
   ]
  },
  {
   "cell_type": "code",
   "execution_count": 178,
   "metadata": {
    "collapsed": false
   },
   "outputs": [
    {
     "ename": "IndentationError",
     "evalue": "expected an indented block (<ipython-input-178-97c5beae8a28>, line 5)",
     "output_type": "error",
     "traceback": [
      "\u001b[0;36m  File \u001b[0;32m\"<ipython-input-178-97c5beae8a28>\"\u001b[0;36m, line \u001b[0;32m5\u001b[0m\n\u001b[0;31m    def __init__(self):\u001b[0m\n\u001b[0m      ^\u001b[0m\n\u001b[0;31mIndentationError\u001b[0m\u001b[0;31m:\u001b[0m expected an indented block\n"
     ]
    }
   ],
   "source": [
    "    \n",
    "# play a wav file\n",
    "class NotePlayer:\n",
    "    # constr\n",
    "    def __init__(self):\n",
    "        pygame.mixer.pre_init(44100, -16, 1, 2048)\n",
    "        pygame.init()\n",
    "        # dictionary of notes\n",
    "        self.notes = {}\n",
    "    # add a note\n",
    "    def add(self, fileName):\n",
    "        self.notes[fileName] = pygame.mixer.Sound(fileName)\n",
    "    # play a note\n",
    "    def play(self, fileName):\n",
    "        try:\n",
    "            self.notes[fileName].play()\n",
    "        except:\n",
    "            print(fileName + ' not found!')\n",
    "\n",
    "# main() function\n",
    "def main():\n",
    "    # declare global var\n",
    "    global gShowPlot\n",
    "\n",
    "    parser = argparse.ArgumentParser(description=\"Generating sounds with Karplus String Algorithm.\")\n",
    "    # add arguments\n",
    "    parser.add_argument('--display', action='store_true', required=False)\n",
    "    parser.add_argument('--play', action='store_true', required=False)\n",
    "    parser.add_argument('--piano', action='store_true', required=False)\n",
    "    args = parser.parse_args()\n",
    "\n",
    "    # show plot if flag set\n",
    "    if args.display:\n",
    "        gShowPlot = True\n",
    "        plt.ion()\n",
    "\n",
    "    # create note player\n",
    "    nplayer = NotePlayer()\n",
    "\n",
    "    print('creating notes...')\n",
    "    for name, freq in list(pmNotes.items()):\n",
    "        fileName = name + '.wav' \n",
    "        if not os.path.exists(fileName) or args.display:\n",
    "            data = generateNote(freq) \n",
    "            print('creating ' + fileName + '...')\n",
    "            writeWAVE(fileName, data) \n",
    "        else:\n",
    "            print('fileName already created. skipping...')\n",
    "        \n",
    "        # add note to player\n",
    "        nplayer.add(name + '.wav')\n",
    "        \n",
    "        # play note if display flag set\n",
    "        if args.display:\n",
    "            nplayer.play(name + '.wav')\n",
    "            time.sleep(0.5)\n",
    "    \n",
    "    # play a random tune\n",
    "    if args.play:\n",
    "        while True:\n",
    "            try: \n",
    "                nplayer.playRandom()\n",
    "                # rest - 1 to 8 beats\n",
    "                rest = np.random.choice([1, 2, 4, 8], 1, \n",
    "                                        p=[0.15, 0.7, 0.1, 0.05])\n",
    "                time.sleep(0.25*rest[0])\n",
    "            except KeyboardInterrupt:\n",
    "                exit()\n",
    "\n",
    "    # random piano mode\n",
    "    if args.piano:\n",
    "        while True:\n",
    "            for event in pygame.event.get():\n",
    "                if (event.type == pygame.KEYUP):\n",
    "                    print(\"key pressed\")\n",
    "                    nplayer.playRandom()\n",
    "                    time.sleep(0.5)\n",
    "  \n",
    "# call main\n",
    "if __name__ == '__main__':\n",
    "    main()"
   ]
  },
  {
   "cell_type": "code",
   "execution_count": null,
   "metadata": {
    "collapsed": true
   },
   "outputs": [],
   "source": []
  }
 ],
 "metadata": {
  "kernelspec": {
   "display_name": "Python 3",
   "language": "python",
   "name": "python3"
  },
  "language_info": {
   "codemirror_mode": {
    "name": "ipython",
    "version": 3
   },
   "file_extension": ".py",
   "mimetype": "text/x-python",
   "name": "python",
   "nbconvert_exporter": "python",
   "pygments_lexer": "ipython3",
   "version": "3.6.0"
  }
 },
 "nbformat": 4,
 "nbformat_minor": 2
}
